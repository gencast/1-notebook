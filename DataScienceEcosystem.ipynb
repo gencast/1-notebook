{
 "cells": [
  {
   "cell_type": "markdown",
   "id": "2e8207a9-7684-48ed-a0ca-4fc69d3e9597",
   "metadata": {},
   "source": [
    "# Data Science Tools and Ecosystem"
   ]
  },
  {
   "cell_type": "markdown",
   "id": "e18f1ed8-26fb-4dca-b41b-ebca2339bdaf",
   "metadata": {},
   "source": [
    "## In this notebook, Data Science Tools and Ecosystem are summarized."
   ]
  },
  {
   "cell_type": "markdown",
   "id": "b790e1a4-b8d3-4ac3-8f63-3dc2c940ef86",
   "metadata": {},
   "source": [
    "**Objectives:**\n",
    "\n",
    "* popular languages that Data Scientists\n",
    "* libraries used by Data Scientists\n",
    "* Data Science Tools\n",
    "* evaluating arithmetic expressions\n"
   ]
  },
  {
   "cell_type": "markdown",
   "id": "31f6748a-0b59-4311-a6c9-51cac2e90e3d",
   "metadata": {},
   "source": [
    "### Some of the popular languages that Data Scientists use are:\n",
    "1. Python\n",
    "2. R\n",
    "3. Java"
   ]
  },
  {
   "cell_type": "markdown",
   "id": "4253f7d6-4bdd-4e46-8e78-f8fe105af2e8",
   "metadata": {
    "tags": []
   },
   "source": [
    "### Some of the commonly used libraries used by Data Scientists include:\n",
    "\n",
    "1. Pandas\n",
    "2. Scikit-learn\n",
    "3. TensorFlow"
   ]
  },
  {
   "cell_type": "markdown",
   "id": "809a01cd-ce8c-4d13-a118-44eb470417a8",
   "metadata": {},
   "source": [
    " | Data Science Tools |\n",
    "  -----------------\n",
    " |  Jupyter Notebooks|\n",
    " |  R Studio’s       |\n",
    " |   Anaconda       |"
   ]
  },
  {
   "cell_type": "markdown",
   "id": "94b0861d-9329-492e-989c-83811f24ab9b",
   "metadata": {},
   "source": [
    "### Below are a few examples of evaluating arithmetic expressions in Python"
   ]
  },
  {
   "cell_type": "code",
   "execution_count": 2,
   "id": "8324d33d-afdd-4313-8e7b-dc342d42a1fa",
   "metadata": {
    "tags": []
   },
   "outputs": [
    {
     "data": {
      "text/plain": [
       "17"
      ]
     },
     "execution_count": 2,
     "metadata": {},
     "output_type": "execute_result"
    }
   ],
   "source": [
    "(3*4)+5\n",
    "# this a simple arithmetic expression to mutiply then add integers"
   ]
  },
  {
   "cell_type": "code",
   "execution_count": 3,
   "id": "4dcddf81-d0cf-4a3f-be23-5e4cb9936912",
   "metadata": {
    "tags": []
   },
   "outputs": [
    {
     "data": {
      "text/plain": [
       "3.3333333333333335"
      ]
     },
     "execution_count": 3,
     "metadata": {},
     "output_type": "execute_result"
    }
   ],
   "source": [
    "200/60\n",
    "# This will convert 200 minutes to hours by diving by 60\n"
   ]
  },
  {
   "cell_type": "markdown",
   "id": "e0db482a-5abb-413d-a685-765703e93d38",
   "metadata": {},
   "source": [
    "## Author\n",
    "Genaro"
   ]
  },
  {
   "cell_type": "code",
   "execution_count": null,
   "id": "4c643c38-71e9-4bd8-93a3-f0653193be79",
   "metadata": {},
   "outputs": [],
   "source": []
  }
 ],
 "metadata": {
  "kernelspec": {
   "display_name": "Python",
   "language": "python",
   "name": "conda-env-python-py"
  },
  "language_info": {
   "codemirror_mode": {
    "name": "ipython",
    "version": 3
   },
   "file_extension": ".py",
   "mimetype": "text/x-python",
   "name": "python",
   "nbconvert_exporter": "python",
   "pygments_lexer": "ipython3",
   "version": "3.7.12"
  }
 },
 "nbformat": 4,
 "nbformat_minor": 5
}
